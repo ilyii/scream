{
 "cells": [
  {
   "cell_type": "code",
   "execution_count": null,
   "metadata": {},
   "outputs": [],
   "source": [
    "\"\"\" Youtube Dataset\n",
    "1. Transcripts auto-gen vs. manual\n",
    "2. Num speakers\n",
    "3. Total hours (h)\n",
    "4. Languages (only german)\n",
    "5. Genre / Topics\n",
    "6. Sampling rate\n",
    "7. Bit rate\n",
    "8. Length distribution\n",
    "9. Unique words used (vocab size)\n",
    "10. Average words per minute\n",
    "\n",
    "\"\"\""
   ]
  }
 ],
 "metadata": {
  "language_info": {
   "name": "python"
  }
 },
 "nbformat": 4,
 "nbformat_minor": 2
}
