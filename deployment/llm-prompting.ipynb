{
 "cells": [
  {
   "cell_type": "code",
   "execution_count": null,
   "metadata": {},
   "outputs": [],
   "source": [
    "!pip install langchain openai"
   ]
  },
  {
   "cell_type": "code",
   "execution_count": null,
   "metadata": {},
   "outputs": [],
   "source": []
  },
  {
   "cell_type": "code",
   "execution_count": null,
   "metadata": {},
   "outputs": [],
   "source": [
    "prompt_template_raw= \"\"\"Summarize the audio transcript below. \n",
    "If the transcript cannot be summarized using the information provided, respond with 'Could not transcribe.'\n",
    "\n",
    "Context: You are a professional tasked with summarizing audio message transcripts. \n",
    "You always aim to provide concise and accurate summaries of the transcript. \n",
    "\n",
    "--- Please summarize this audio transcript:\n",
    "\n",
    "{text}\n",
    "---\n",
    "\n",
    "Summarization: \n",
    "\n",
    "\"\"\""
   ]
  },
  {
   "cell_type": "code",
   "execution_count": null,
   "metadata": {},
   "outputs": [],
   "source": [
    "from langchain_openai import AzureOpenAI\n",
    "\n",
    "\n",
    "llm = AzureOpenAI(\n",
    "    model_name=\"text-davinci-003\",\n",
    "    openai_api_key=\"YOUR_API_KEY\"\n",
    ")\n"
   ]
  },
  {
   "cell_type": "code",
   "execution_count": null,
   "metadata": {},
   "outputs": [],
   "source": [
    "from langchain import PromptTemplate\n",
    "\n",
    "\n",
    "prompt_template = PromptTemplate(\n",
    "    input_variables=[\"text\"],\n",
    "    template=prompt_template_raw\n",
    ")"
   ]
  },
  {
   "cell_type": "code",
   "execution_count": null,
   "metadata": {},
   "outputs": [],
   "source": [
    "prompt_template.format(\n",
    "    text=\"Hello, my name is John Doe. I am a software engineer at Microsoft. I have been working on a new project for the past few months. The project involves developing a new software application that will help businesses manage their customer data more effectively. I have been working closely with my team to ensure that the application meets all the requirements and is delivered on time. We are currently in the final stages of testing the application and hope to launch it soon. I am excited about the potential impact this application will have on businesses and look forward to seeing it in action.\"\n",
    ")"
   ]
  },
  {
   "cell_type": "code",
   "execution_count": null,
   "metadata": {},
   "outputs": [],
   "source": [
    "llm(\n",
    "    prompt_template.format(\n",
    "        text=\"\"\n",
    "    )\n",
    ")"
   ]
  }
 ],
 "metadata": {
  "kernelspec": {
   "display_name": ".whisper",
   "language": "python",
   "name": "python3"
  },
  "language_info": {
   "codemirror_mode": {
    "name": "ipython",
    "version": 3
   },
   "file_extension": ".py",
   "mimetype": "text/x-python",
   "name": "python",
   "nbconvert_exporter": "python",
   "pygments_lexer": "ipython3",
   "version": "3.10.11"
  }
 },
 "nbformat": 4,
 "nbformat_minor": 2
}
