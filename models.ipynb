{
 "cells": [
  {
   "cell_type": "code",
   "execution_count": null,
   "metadata": {},
   "outputs": [],
   "source": [
    "import torch\n",
    "from torchaudio.models import Conformer, RNNT, HuBERTPretrainModel\n",
    "import models"
   ]
  },
  {
   "cell_type": "code",
   "execution_count": null,
   "metadata": {},
   "outputs": [],
   "source": [
    "\n",
    "wav2vec = models.Wav2Vec(models.Wav2Vec_PARAMS)\n",
    "wav2vec.load_state_dict(torch.load(\"models/checkpoints/wav2vec2-base-960h.pt\"))\n",
    "wav2vec.to(DEVICE)\n"
   ]
  }
 ],
 "metadata": {
  "kernelspec": {
   "display_name": ".venv",
   "language": "python",
   "name": "python3"
  },
  "language_info": {
   "name": "python",
   "version": "3.11.6"
  }
 },
 "nbformat": 4,
 "nbformat_minor": 2
}
