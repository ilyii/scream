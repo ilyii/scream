{
 "cells": [
  {
   "cell_type": "code",
   "execution_count": 46,
   "metadata": {},
   "outputs": [],
   "source": [
    "# !pip install langchain openai"
   ]
  },
  {
   "cell_type": "code",
   "execution_count": 47,
   "metadata": {},
   "outputs": [],
   "source": [
    "import os\n",
    "from dotenv import load_dotenv\n",
    "\n",
    "load_dotenv(\".env\")\n",
    "\n",
    "os.environ[\"AZURE_OPENAI_API_KEY\"] = os.getenv(\"AZURE_OPENAI_API_KEY\")\n",
    "os.environ[\"AZURE_OPENAI_ENDPOINT\"] = os.getenv(\"AZURE_OPENAI_ENDPOINT\")\n",
    "os.environ[\"OPENAI_API_VERSION\"] = os.getenv(\"OPENAI_API_VERSION\")"
   ]
  },
  {
   "cell_type": "code",
   "execution_count": 48,
   "metadata": {},
   "outputs": [],
   "source": [
    "prompt_template_raw= f\"\"\"Summarize the audio transcript below. \n",
    "If the transcript cannot be summarized using the information provided, respond with 'Could not transcribe.'\n",
    "\n",
    "Context: You are a professional tasked with summarizing audio message transcripts. \n",
    "You always aim to provide concise and accurate summaries of the transcript. \n",
    "\n",
    "--- Please summarize this audio transcript:\n",
    "\n",
    "{text}\n",
    "---\n",
    "\n",
    "Summarization: \n",
    "\n",
    "\"\"\""
   ]
  },
  {
   "cell_type": "code",
   "execution_count": 49,
   "metadata": {},
   "outputs": [],
   "source": [
    "from openai import AzureOpenAI\n",
    "\n",
    "\"\"\"\n",
    "Embeddings: text-embedding-ada-002\n",
    "\n",
    "LLM: \n",
    "- gpt-35-turbo (0301)\n",
    "- gpt-4 (0613)\n",
    "\"\"\"\n",
    "\n",
    "llm = AzureOpenAI(\n",
    "    api_key=os.getenv(\"AZURE_OPENAI_API_KEY\"),  \n",
    "    api_version=\"2024-02-15-preview\",\n",
    "    azure_endpoint = os.getenv(\"AZURE_OPENAI_ENDPOINT\")\n",
    "    )"
   ]
  },
  {
   "cell_type": "code",
   "execution_count": 50,
   "metadata": {},
   "outputs": [],
   "source": [
    "text = \"\"\"\n",
    "Wir sind in einem System aufgewachsen, wo es halt krasse Stereotypen gibt und Vorurteile. \n",
    "Und ich bin natürlich auch damit aufgewachsen und habe das lange auch irgendwie in mir gehabt und war \n",
    "so mega verunsichert. Hat Angst, dass Leute mich selber immer nur so sehen in diesen Stereotypen und \n",
    "habe mega hart immer dagegen angekämpft. Es ist total anstrengend, so durchs Leben zu gehen und dann \n",
    "wollte ich halt genau diese Stereotypen aufgreifen und sie zerbrechen, dekonstruieren und quasi neue,\n",
    "starke verschiedene Bilder zu kreieren von asiatisch gelesenen Menschen. Ich heiße Nashi44. Ich komme aus Berlin \n",
    "Neukölln, deswegen 44. Und ich bin Musikerin, Rapperin, Singer-Songwriterin. Mein Vater kommt aus Deutschland\n",
    "und meine Mutter kommt aus Vietnam. Allerdings gehört sie zu der chinesischen Minderheit aus Südvietnam. \n",
    "Mein Vater hat beim Deutschen Roten Kreuz gearbeitet, im Büro unten als Pförtner und Telefonistin und meine\n",
    "Mutter hatte im selben Gebäude oben Deutschunterricht. Und dann ist sie einmal runtergekommen in seinem Büro,\n",
    "um da Unterlagen zu kopieren und da haben sie sich dann kennengelernt. Ich bin halt in Neukölln aufgewachsen\n",
    "und da gab es fast gar keine vietnamesischen Leute. Da war es so mehrheitlich Leute, die irgendwie einen türkischen \n",
    "oder arabischen Background hatten. Das heißt, ich habe mich am Anfang eher so zu der Community zugehörig gefühlt, \n",
    "aber natürlich dann so meine Familie. Das war immer so mein Kontakt zur vietnamesischen Seite. Ich habe auch Familie noch \n",
    "in Vietnam und ich bin halt irgendwie auch schon mit der Kultur aufgewachsen, so zu Hause. Da haben wir halt, habe ich mit\n",
    "meiner Mutter immer vietnamesisch gesprochen, mit meinem Papa immer Deutsch so und meinen Geschwistern halt immer irgedenso\n",
    "einen Mix. Es gibt so ein Foto von mir, da bin ich so drei oder vier Jahre alt und da habe ich schon so ein Mikrofon in der\n",
    "Hand, weil zu Hause hatten wir immer so eine Karaokemaschine und dann haben wir halt so vietnamesische Lieder gesungen. Und\n",
    "diese Songs hab ich immer gesungen, obwohl ich gar nicht lesen konnte. Also mit drei, vier Jahren. Aber das waren so die Anfänge\n",
    "und wir hatten immer Instrumente zu Hause. Und ich habe dann irgendwann angefangen Gitarrenunterricht zu bekommen, weil\n",
    "ich meinte so zu meinen Eltern: 'Ich möchte sehr Musikunterricht bekommen'. Und ich hab mich halt nie getraut, \n",
    "Gesangsunterricht zu nehmen, weil ich dachte, ich kann eh nicht singen. Dann hatte ich halt Gitarrenunterricht,\n",
    "später dann Klavierunterricht und habe dann halt auch in so Bands mitgesungen und gerappt. Also meine ersten Raptexte \n",
    "habe ich glaube ich so mit zehn, elf geschrieben. Es waren jetzt nicht explizit Raptexte, sondern es waren halt so meine \n",
    "kleinen Gedichte, meine kleinen Sätze, Reimensammlungen und es ging halt um Familie, um Sachen, die damals passiert sind, \n",
    "die irgendwie voll schlimm für mich waren oder halt auch in der Schulzeit. Ist auch ein bisschen Scheiße passiert. Also immer\n",
    "sehr persönliche Sachen, die irgendwie ein bisschen dramatisch sind. Die hab ich dann immer schon in Texten verarbeitet. Ich \n",
    "bin für zwei Jahre nach Leipzig gezogen, um dort Pop- und Jazzgesang zu studieren und ich habe mich mega lange darauf vorbereitet,\n",
    "so zwei Jahre in der Studienvorbereitung. So hab wirklich alles darauf gesetzt dahin zu kommen, habe ja auch vorgesungen. Es gibt\n",
    "ja auch Castings und so alles. Und als ich da war, hat sich das dann nicht so rausgestellt, wie ich es mir vorgestellt habe. \n",
    "Ich wollte halt immer meine Songs schreiben, meine Texte und irgendwie an meiner Musik arbeiten und ich dachte, dieser Raum dort\n",
    "würde mich dabei unterstützen und mich pushen. Einerseits war das Studium dann doch nicht das, was ich wollte, andererseits habe \n",
    "ich dann auch selber Rassismus erfahren an der Hochschule. Musste irgendwie super viele unangenehme Gespräche führen und dann \n",
    "in der Stadt selber hab ich mich auch nicht so wohlgefühlt. Nach langen, langen Ringen bin ich dann zurück nach Berlin, habe \n",
    "das Studium dort abgebrochen und seitdem mache ich Rap als Nashi44. 'Asian Berlin Pussy Concious Rap' ist für mich so dieser \n",
    "Mix aus vielen verschiedenen Musikrichtungen. Meine Texte sind halt sehr nah und aber auch ein bisschen sozialpolitisch, so \n",
    "in die Richtung. Deswegen nenne ich es auf jeden Fall Conscious Rap. Aber es ist halt nicht so, dieser stinknormale 0815 Conscious Rap, \n",
    "was du kennst, was manchmal dir aus den Ohren raushängt, sondern ich wollte, dass es halt immer irgendwie eine Musik ist, wo du zu tanzen\n",
    " kannst, abgehen kannst, unter der Dusche dazu singen kannst oder im Auto abgehen kannst. Als ich von Leipzig zurück nach Berlin gekommen\n",
    "   bin, habe ich versucht, eine Wohnung in Neukölln zu finden, also da, wo ich auch aufgewachsen bin. Hat aber nicht geklappt. Ich hab ein\n",
    "     paar Monate auf einem Sofa meiner Eltern gewohnt, tatsächlich. Das war sehr intensiv, wir waren sieben Leute in einer Vierzimmerwohnung.\n",
    "       Und dann war ich halt irgendwann: \"Yo, ich finde einfach keine Wohnung in Neukölln. Es ist nicht möglich\". Deswegen bin ich dann nach \n",
    "       Lichtenberg gezogen und deswegen sind wir heute in Lichtenberg, wo ich wohne und wo auch das Studio von Spoke ist und irgendwie mein \n",
    "       neuer Lebensmittelpunkt -geworden ist. -Also mein Name ist Spoke. Ich bin Producer, Beatmaker, ursprünglich aus Kassel. Ich habe ein \n",
    "       Studio in Berlin, mache hier viel HipHop Produktion. Ja, wir haben mal eine Kollaboration gemacht für den Magic Clit Track. Genau darüber \n",
    "       haben wir uns kennengelernt. Das ist im Prinzip auch so ein bisschen der Spirit von diesem Studio, das mir halt superwichtig ist. Das sind \n",
    "       Personen in diesem ganzen Musikproduktionsbereich zu stärken und zu pushen. Das heißt, dieses ganze Unterrepräsentation von Producer*innen und auch Sound Engineers ist halt so was, wo ich denke, dass sehr viel passieren muss. Und ich glaube, das ist halt auch vor allen Dingen durch Orte und durch Netzwerken zu stärken, also von meiner Seite, dass man halt Leute involviert. Ich arbeite halt auch mit einem queeren Masteringstudio zum Beispiel. Und es ist halt superwichtig, dass in diesem Bereich, wo man sich auch professionalisiert, dass da einfach so Zusammenarbeit stattfindet und man sich auch gegenseitig Ressourcen und Projekte pusht und sich gegenseitig pusht als als Professionelle in dem Bereich. Wenn ich mit Leuten zusammenarbeite, dann versuche ich schon irgendwie vorwiegend mit Flinta oder queeren Menschen und BIPoCs zusammenzuarbeiten, weil ich auch finde, wie Spoke schon gesagt hat, dass es irgendwie auch eine Unterrepräsentation gibt und meistens hakt es dann einfach nur. Oder liegt es daran, dass einfach die Plattformen fehlen oder irgendwie so die Chancen und Möglichkeiten. Weil ich glaube, es gibt genügend sehr viele talentierte Leute, vor allen Dingen Flintas und BIPoCs. Und deswegen versuche ich dann, wenn ich irgendwie die Möglichkeit habe, so eine Plattform zu sharen, dass ich das dann auch mache, sozusagen mit coolen Leuten wie auch Spoke. Eine der wichtigsten Ideen von dem Studio, halt auch so ein bisschen so eine andere Atmosphäre zu schaffen. Also mir ist es halt superwichtig und ich höre das auch als Feedback von vielen anderen Artists, man hat halt oft auch so ein bisschen so ein Machtgefälle im Studio oder so ein bisschen so verschiedene Arten, wie man sich fühlt in seinen Positionen. Und mir ist es halt zum Beispiel total wichtig, so ein bisschen so dieses Artist Producer Engineer Ding auch so ein bisschen aufzubrechen. Also so einfach vom Feeling oder von der Zusammenarbeit. Und das ist halt was, was mir superwichtig ist und was ich auch super merke, dass viele Flinta Artists das auch schätzen, weil es halt oft einfach so ein bisschen mehr Offenheit schafft und nicht so diese: Ja, ich bin jetzt die Person die erzählt wie es läuft oder dedede. Und ich glaube halt, das dadurch einfach ein bisschen eine andere Atmosphäre entstehen kann. Und das genieße ich total und ich merke auch, dass andere Artists das genießen. Ich bin vor allen Dingen, glaube ich, von Anfang an extrem beeindruckt gewesen, dass halt Nashi so eine krasse Vision hat. Also mich hat das sofort total krass beeindruckt, weil ich hatte das Gefühl Nashi war so bamm: So, das will ich machen, so Ästhetik, Inhalt politisch. Alles war halt so, es war halt so eine Vision für mich und das hat mich halt super beeindruckt von Anfang an. So Unterrepräsentation von FLINTA* und queer Producer*innen und Beatmaker etc.. Es gibt so krass viel strukturelle Probleme, also Ungleichgewicht in dieser Musikbranche. Da muss einfach super viel passieren. Ich hoffe vor allen Dingen auch, dass es nicht oberflächlich passiert. Also das ist nicht auf dieser Repräsentationsebene. Das ist halt was, was ich gerade viel wahrnehme. Sondern auch hinter den Bühnen und so. Voll! Also es geht wirklich um die Strukturen unten drunter sozusagen. Und ich glaube, dass sich so politische Sachen auch wirklich nur verändern können, wenn halt wirklich dass so dauerhaft eine Veränderung hat. Und das ist halt, das ist für mich halt Machtposition. Und da hoffe ich halt, dass die Repräsentation sich ändert. -Ich würde es unterschreiben und noch hinzufügen der finanzielle Aspekt so ein bisschen besser werden sollte. Ich finde es auch wirklich absurd, dass Streaming so schlecht bezahlt wird quasi. Also dass am Ende fast gar nichts ankommt bei den Musikschaffenden, dass da einfach so ein bisschen was sich ändern sollte. Weil am Ende, wenn du dann mehr Geld zur Verfügung hast, kannst du auch wieder besser abgeben an andere und sozusagen ein besseres Standbein haben. Ich schaffe das jetzt gerade auch nur, weil ich Förderungen habe. Ohne Förderung wäre das gar nicht möglich. So würde kein Lied veröffentlicht werden. Ich wurde gefördert von der Initiative für Musik. Und da musst du tatsächlich ganz schön viel vorher einreichen. Also du musst einen Finanzplan schreiben, wie du das Geld verwalten möchtest. Du musst so eine Art Motivationsschreiben schreiben.\n",
    "\"\"\"\n"
   ]
  },
  {
   "cell_type": "code",
   "execution_count": 64,
   "metadata": {},
   "outputs": [],
   "source": [
    "prompt_template= f\"\"\"Summarize the audio transcript below. Retain the prompt language and write the summary from the speaker's perspective.\n",
    "\n",
    "Context: You are a professional tasked with summarizing audio message transcripts. \n",
    "You always aim to provide concise and accurate summaries of the transcript. \n",
    "\n",
    "--- Please summarize the content of this audio transcript:\n",
    "\n",
    "{text}\n",
    "---\n",
    "\n",
    "Summarization in prompt language:\n",
    "\n",
    "\"\"\""
   ]
  },
  {
   "cell_type": "code",
   "execution_count": 65,
   "metadata": {},
   "outputs": [
    {
     "name": "stdout",
     "output_type": "stream",
     "text": [
      "Provide a concise and accurate summary of this audio message from Nashi44 and Spoke. Nashi44 shares her experience growing up while trying to defeat stereotypes and her artistic approach of conscious rap. Spoke discusses the inequalities that exist in music production specifically concerning the underrepresentation of producers with diverse backgrounds. The duo addresses the issue of power positions in the studio, as they aim to create a comfortable and different atmosphere that breaks from the usual artist, producer, and engineer motto. Nashi44 shared her\n"
     ]
    }
   ],
   "source": [
    "response = llm.completions.create(model=\"gpt-35-turbo\", \n",
    "                                  prompt=prompt_template,\n",
    "                                  max_tokens=100,\n",
    "                                  )\n",
    "print(response.choices[0].text)\n",
    "# Was sehe ich hier?"
   ]
  }
 ],
 "metadata": {
  "kernelspec": {
   "display_name": ".whisper",
   "language": "python",
   "name": "python3"
  },
  "language_info": {
   "codemirror_mode": {
    "name": "ipython",
    "version": 3
   },
   "file_extension": ".py",
   "mimetype": "text/x-python",
   "name": "python",
   "nbconvert_exporter": "python",
   "pygments_lexer": "ipython3",
   "version": "3.11.6"
  }
 },
 "nbformat": 4,
 "nbformat_minor": 2
}
