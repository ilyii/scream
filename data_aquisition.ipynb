{
 "cells": [
  {
   "cell_type": "code",
   "execution_count": 3,
   "metadata": {},
   "outputs": [],
   "source": [
    "URL = \"links.txt\""
   ]
  },
  {
   "cell_type": "code",
   "execution_count": 4,
   "metadata": {},
   "outputs": [
    {
     "ename": "ModuleNotFoundError",
     "evalue": "No module named 'youtube_tts_data_generator'",
     "output_type": "error",
     "traceback": [
      "\u001b[1;31m---------------------------------------------------------------------------\u001b[0m",
      "\u001b[1;31mModuleNotFoundError\u001b[0m                       Traceback (most recent call last)",
      "Cell \u001b[1;32mIn[4], line 1\u001b[0m\n\u001b[1;32m----> 1\u001b[0m \u001b[38;5;28;01mfrom\u001b[39;00m \u001b[38;5;21;01myoutube_tts_data_generator\u001b[39;00m \u001b[38;5;28;01mimport\u001b[39;00m YTSpeechDataGenerator\n\u001b[0;32m      3\u001b[0m \u001b[38;5;66;03m# First create a YTSpeechDataGenerator instance:\u001b[39;00m\n\u001b[0;32m      5\u001b[0m generator \u001b[38;5;241m=\u001b[39m YTSpeechDataGenerator(dataset_name\u001b[38;5;241m=\u001b[39m\u001b[38;5;124m'\u001b[39m\u001b[38;5;124mtest\u001b[39m\u001b[38;5;124m'\u001b[39m)\n",
      "\u001b[1;31mModuleNotFoundError\u001b[0m: No module named 'youtube_tts_data_generator'"
     ]
    }
   ],
   "source": [
    "from youtube_tts_data_generator import YTSpeechDataGenerator\n",
    "\n",
    "# First create a YTSpeechDataGenerator instance:\n",
    "\n",
    "generator = YTSpeechDataGenerator(dataset_name='test')\n",
    "\n",
    "generator.prepare_dataset(URL)\n"
   ]
  },
  {
   "cell_type": "code",
   "execution_count": null,
   "metadata": {},
   "outputs": [
    {
     "data": {
      "text/plain": [
       "{'http://www.youtube.com/watch?v=1yAkmw6sjdI',\n",
       " 'http://www.youtube.com/watch?v=2vM2tFMUaAU',\n",
       " 'http://www.youtube.com/watch?v=5X1lPrygmBo',\n",
       " 'http://www.youtube.com/watch?v=D90vSBos1mk',\n",
       " 'http://www.youtube.com/watch?v=EbO63g-gKjk',\n",
       " 'http://www.youtube.com/watch?v=G9DYRANsIaE',\n",
       " 'http://www.youtube.com/watch?v=GpgGcU2ypJY',\n",
       " 'http://www.youtube.com/watch?v=PY0dIvo-Bz0',\n",
       " 'http://www.youtube.com/watch?v=TaXfVnheyo0',\n",
       " 'http://www.youtube.com/watch?v=VrtxIDOWojM',\n",
       " 'http://www.youtube.com/watch?v=WNg-RFF1zLY',\n",
       " 'http://www.youtube.com/watch?v=X_Jba0joNP8',\n",
       " 'http://www.youtube.com/watch?v=YGFwp2c3bro',\n",
       " 'http://www.youtube.com/watch?v=ZRj8em7zc0w',\n",
       " 'http://www.youtube.com/watch?v=bVeAIlj8660',\n",
       " 'http://www.youtube.com/watch?v=c-iqIz2TLP4',\n",
       " 'http://www.youtube.com/watch?v=cYLV1lK_Lb4',\n",
       " 'http://www.youtube.com/watch?v=dKcr-SG_hSU',\n",
       " 'http://www.youtube.com/watch?v=eBuihyRC6tU',\n",
       " 'http://www.youtube.com/watch?v=f6PZKI3awJU',\n",
       " 'http://www.youtube.com/watch?v=h6ipYCcL3VU',\n",
       " 'http://www.youtube.com/watch?v=iqfjZdoQItI',\n",
       " 'http://www.youtube.com/watch?v=kcwuMK6HQl8',\n",
       " 'http://www.youtube.com/watch?v=lf7CIAJzSNc',\n",
       " 'http://www.youtube.com/watch?v=mRNSJDgVok0',\n",
       " 'http://www.youtube.com/watch?v=mdUt-U3Yt54',\n",
       " 'http://www.youtube.com/watch?v=qDScF6IqeXA',\n",
       " 'http://www.youtube.com/watch?v=rqU_3ZnbQ9g',\n",
       " 'http://www.youtube.com/watch?v=xiHpV5mP6do',\n",
       " 'http://www.youtube.com/watch?v=z5p0J4DF2FU'}"
      ]
     },
     "execution_count": 45,
     "metadata": {},
     "output_type": "execute_result"
    }
   ],
   "source": [
    "import urllib.request\n",
    "import urllib.parse\n",
    "import re\n",
    "import webbrowser as wb\n",
    "\n",
    "CHANNEL_ID = \"@papaplatte\"\n",
    "\n",
    "# query_string = urllib.parse.urlencode({\"search_query\" : \"papaplatte\"})\n",
    "# html_content = urllib.request.urlopen(\"http://www.youtube.com/results?\"+query_string)\n",
    "html_content = urllib.request.urlopen(rf\"https://www.youtube.com/{CHANNEL_ID}/videos\")\n",
    "search_results = re.findall(r'watch\\?v=([a-zA-Z0-9_-]{11})', html_content.read().decode())\n",
    "videos = set([\"http://www.youtube.com/watch?v=\"+search_result for search_result in search_results])\n",
    "videos"
   ]
  },
  {
   "cell_type": "code",
   "execution_count": null,
   "metadata": {},
   "outputs": [],
   "source": [
    "import sqlite3\n",
    "\n",
    "\n",
    "db_path = \"data/videos.db\"\n",
    "\n",
    "conn = sqlite3.connect(db_path)\n",
    "cursor = conn.cursor()\n",
    "cursor.execute('''CREATE TABLE IF NOT EXISTS master\n",
    "                (id INTEGER PRIMARY KEY, channel TEXT, url TEXT)''')\n",
    "\n",
    "for v in videos:\n",
    "    cursor.execute(\"INSERT INTO master (channel, url) VALUES (?, ?)\", (CHANNEL_ID, v))\n",
    "\n",
    "conn.commit()\n",
    "conn.close()"
   ]
  },
  {
   "cell_type": "code",
   "execution_count": null,
   "metadata": {},
   "outputs": [
    {
     "data": {
      "text/plain": [
       "[(1, '@papaplatte', 'http://www.youtube.com/watch?v=qDScF6IqeXA'),\n",
       " (2, '@papaplatte', 'http://www.youtube.com/watch?v=mRNSJDgVok0'),\n",
       " (3, '@papaplatte', 'http://www.youtube.com/watch?v=EbO63g-gKjk'),\n",
       " (4, '@papaplatte', 'http://www.youtube.com/watch?v=bVeAIlj8660'),\n",
       " (5, '@papaplatte', 'http://www.youtube.com/watch?v=z5p0J4DF2FU'),\n",
       " (6, '@papaplatte', 'http://www.youtube.com/watch?v=c-iqIz2TLP4'),\n",
       " (7, '@papaplatte', 'http://www.youtube.com/watch?v=ZRj8em7zc0w'),\n",
       " (8, '@papaplatte', 'http://www.youtube.com/watch?v=PY0dIvo-Bz0'),\n",
       " (9, '@papaplatte', 'http://www.youtube.com/watch?v=dKcr-SG_hSU'),\n",
       " (10, '@papaplatte', 'http://www.youtube.com/watch?v=mdUt-U3Yt54'),\n",
       " (11, '@papaplatte', 'http://www.youtube.com/watch?v=YGFwp2c3bro'),\n",
       " (12, '@papaplatte', 'http://www.youtube.com/watch?v=VrtxIDOWojM'),\n",
       " (13, '@papaplatte', 'http://www.youtube.com/watch?v=cYLV1lK_Lb4'),\n",
       " (14, '@papaplatte', 'http://www.youtube.com/watch?v=X_Jba0joNP8'),\n",
       " (15, '@papaplatte', 'http://www.youtube.com/watch?v=eBuihyRC6tU'),\n",
       " (16, '@papaplatte', 'http://www.youtube.com/watch?v=5X1lPrygmBo'),\n",
       " (17, '@papaplatte', 'http://www.youtube.com/watch?v=h6ipYCcL3VU'),\n",
       " (18, '@papaplatte', 'http://www.youtube.com/watch?v=GpgGcU2ypJY'),\n",
       " (19, '@papaplatte', 'http://www.youtube.com/watch?v=WNg-RFF1zLY'),\n",
       " (20, '@papaplatte', 'http://www.youtube.com/watch?v=2vM2tFMUaAU'),\n",
       " (21, '@papaplatte', 'http://www.youtube.com/watch?v=1yAkmw6sjdI'),\n",
       " (22, '@papaplatte', 'http://www.youtube.com/watch?v=f6PZKI3awJU'),\n",
       " (23, '@papaplatte', 'http://www.youtube.com/watch?v=iqfjZdoQItI'),\n",
       " (24, '@papaplatte', 'http://www.youtube.com/watch?v=kcwuMK6HQl8'),\n",
       " (25, '@papaplatte', 'http://www.youtube.com/watch?v=D90vSBos1mk'),\n",
       " (26, '@papaplatte', 'http://www.youtube.com/watch?v=lf7CIAJzSNc'),\n",
       " (27, '@papaplatte', 'http://www.youtube.com/watch?v=rqU_3ZnbQ9g'),\n",
       " (28, '@papaplatte', 'http://www.youtube.com/watch?v=TaXfVnheyo0'),\n",
       " (29, '@papaplatte', 'http://www.youtube.com/watch?v=G9DYRANsIaE'),\n",
       " (30, '@papaplatte', 'http://www.youtube.com/watch?v=xiHpV5mP6do')]"
      ]
     },
     "execution_count": 48,
     "metadata": {},
     "output_type": "execute_result"
    }
   ],
   "source": [
    "# Read the data from the database\n",
    "conn = sqlite3.connect(db_path)\n",
    "cursor = conn.cursor()\n",
    "cursor.execute(\"SELECT * FROM master WHERE channel=?\", (CHANNEL_ID,))\n",
    "videos = cursor.fetchall()\n",
    "conn.close()\n",
    "\n",
    "videos"
   ]
  },
  {
   "cell_type": "code",
   "execution_count": 6,
   "metadata": {},
   "outputs": [],
   "source": [
    "from youtube_transcript_api import YouTubeTranscriptApi\n",
    "\n",
    "ID = \"xiHpV5mP6do\"\n",
    "tx = YouTubeTranscriptApi.list_transcripts(ID)\n",
    "\n",
    "for transcript in tx:\n",
    "    # list(\"text\", \"start\", \"duration\")\n",
    "    transcript_de = transcript.translate('de').fetch()\n",
    "    transcript_en = transcript.translate('en').fetch()"
   ]
  },
  {
   "cell_type": "code",
   "execution_count": null,
   "metadata": {},
   "outputs": [],
   "source": [
    "# print(\"\\n\".join([t['text'] for t in transcript_de]))\n",
    "\n",
    "transcript_de"
   ]
  },
  {
   "cell_type": "code",
   "execution_count": null,
   "metadata": {},
   "outputs": [],
   "source": [
    "print(\"\\n\".join([t['text'] for t in transcript_en]))"
   ]
  },
  {
   "cell_type": "code",
   "execution_count": 8,
   "metadata": {},
   "outputs": [
    {
     "name": "stdout",
     "output_type": "stream",
     "text": [
      "[youtube] xiHpV5mP6do: Downloading webpage\n",
      "[dashsegments] Total fragments: 2\n",
      "[download] Destination: data\\Wir testen die verrücktesten TikTok Gadgets!.m4a\n",
      "[download] 100% of 17.41MiB in 00:01                   \n",
      "[ffmpeg] Correcting container in \"data\\Wir testen die verrücktesten TikTok Gadgets!.m4a\"\n",
      "[ffmpeg] Destination: data\\Wir testen die verrücktesten TikTok Gadgets!.mp3\n",
      "Deleting original file data\\Wir testen die verrücktesten TikTok Gadgets!.m4a (pass -k to keep)\n"
     ]
    }
   ],
   "source": [
    "from __future__ import unicode_literals\n",
    "import youtube_dl\n",
    "\n",
    "output_dir = \"data/\"\n",
    "output_template = output_dir + '%(title)s.%(ext)s'\n",
    "ydl_opts = {\n",
    "    'format': 'bestaudio/best',\n",
    "    'postprocessors': [{\n",
    "        'key': 'FFmpegExtractAudio',\n",
    "        'preferredcodec': 'mp3',\n",
    "        'preferredquality': '192',\n",
    "    }],\n",
    "    'outtmpl': output_template  \n",
    "}\n",
    "\n",
    "with youtube_dl.YoutubeDL(ydl_opts) as ydl:\n",
    "    ydl.download([f'https://www.youtube.com/watch?v={ID}'])"
   ]
  }
 ],
 "metadata": {
  "kernelspec": {
   "display_name": ".venv",
   "language": "python",
   "name": "python3"
  },
  "language_info": {
   "codemirror_mode": {
    "name": "ipython",
    "version": 3
   },
   "file_extension": ".py",
   "mimetype": "text/x-python",
   "name": "python",
   "nbconvert_exporter": "python",
   "pygments_lexer": "ipython3",
   "version": "3.12.2"
  }
 },
 "nbformat": 4,
 "nbformat_minor": 2
}
