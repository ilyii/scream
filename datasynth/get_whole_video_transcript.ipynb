{
 "cells": [
  {
   "cell_type": "code",
   "execution_count": 2,
   "metadata": {},
   "outputs": [],
   "source": [
    "from youtube_transcript_api import NoTranscriptFound, YouTubeTranscriptApi\n"
   ]
  },
  {
   "cell_type": "code",
   "execution_count": 3,
   "metadata": {},
   "outputs": [],
   "source": [
    "VID = \"Oh8ioxM9Ghc\"\n"
   ]
  },
  {
   "cell_type": "code",
   "execution_count": 9,
   "metadata": {},
   "outputs": [],
   "source": [
    "tx = YouTubeTranscriptApi.list_transcripts(VID)\n",
    "scripts = [t.fetch() for t in tx]\n",
    "\n",
    "texts = \" \".join([s[\"text\"] for s in scripts[0]])"
   ]
  },
  {
   "cell_type": "code",
   "execution_count": 10,
   "metadata": {},
   "outputs": [
    {
     "data": {
      "text/plain": [
       "\"[Musik] mein name ist florian rom ich habe millionen und milliarden mit finanzgeschäften angehäuft landete auf der most wanted liste des fbi und schließlich im knast [Musik] hallo florian peter perception fragt sich wie wird man reich ich bin schon sehr früh ehrgeizig gewesen als junioren nationalspielerin basketball kam ich an die harvard universität dann hatte ich an der harvard business school feinschliff bekommen das ist nochmal so die härteste finanz universität die man sich vorstellen kann der wird hein beigebracht wie sie richtig zubeißen dann wurde ich finanzunternehmer nachdem ich mit den besten investoren weltweit einige jahre zusammengearbeitet hat also finanzunternehmer baute ich zwei mal in fünf jahren milliarden unternehmen auf und die pyramide dieser branche das sind die hedgefonds manager das sind vielleicht weltweit 50 dieselbe milliardäre sind und unseren bewegen ein unvorstellbaren einfluss haben und da gehöre ich dazu affen griff fragt sich was macht ein hedgefonds-manager hedgefonds-manager werden außerordentlich gut bezahlt der anspruch ist in allen marktphasen geld zu verdienen der markt fällt kohle für die kunden der markt steigt kohle für die kunden der markt macht gar nichts kohle für die kunden und wenn du das affengeil nastja kleiner hinweis dann wirst du außerordentlich gut bezahlt ja das leben das wirkt glorreich aber es ist fast schon verrückt arbeitstage von 16 stunden plus 100 stunden wochen sind standard keiner will zweitbester werden wir nehmen direkten einfluss wo wir können auf die unternehmens gestaltung weil wir die maximale rendite haben wollen und wenn wir auf angriff gehen damals zumindest dann ging das auch in die andere richtung haben uns dafür eingesetzt dass die werte purzeln weil bei fallenden kursen zu verdienen und bei steigenden kursen das war die mantra meines daseins moment beider fragt sich wie viel hast du damals verdient hört sich vielleicht degeneriert an aber im halbjahr teilweise 20 millionen 30 millionen das vermögen entstand durch fantastische renditen mit höchster mit einer sehr hohen gewinnbeteiligung also 20 prozent wenn der kunde 100 millionen verdient nannten 20 millionen bei mir oder meiner organisation meine erste größere firma hatte damals einen börsenwert von gut einer milliarde d-mark nach fünf jahren die andere auch nach fünf jahren halt eine milliarde euro die letzte war an der london stock exchange einer der 250 grössten firmen england und die andere davor an der frankfurter börse auch einer der größten finanzdienstleister der unabhängigen hast du es nur wegen des geldes getan auf keinen fall wer meint dass bei milliardär sein oder stein reich berühmt job ist der macht einen riesen denkfehler mir ging es eigentlich nur darum auch heute noch das was ich angehe mit absoluter spitzenleistung zu machen ob das heute bücher sind ob das als influenza gilt als börsenbrief jahren sogar karitativ ich möchte nicht zweitbester sein kommando monte möchte von dir wissen was hast du von dem geld gekauft viele spielzeuge die man kaum nutzte also irgendwann mal zwei privatflugzeugen eine nette kleine superyacht ungefähr sechs 7000 quadratmeter wohnfläche also verteilt auf vier fünf größere immobilien palazzo schlosser apartments in london new york kunstsammlung und privat so einiges war sinnvoll vieles war einfach nur schwachsinnig und das ironische war auf einer yacht habe ich glaube ich sechs tage verbracht und in einem palazzo in marbella der ehemals der saudi arabischen familie gehört mit 2300 quadratmeter eine schlappe nacht nieder löchte von dir wissen wie viele stunden am tag hast du bearbeitet 6 2 16 stunden plus sechs stunden am sonntag das geht aber auch wenn du dein schwimmbad vor der tür hast den tennisplatz ist vor der tür den helikopter platz ist vor der tür da ein privates vor der tür da ist putzfrau dass koch dass wir für das kapitän durst piloten und so weiter und du machst sonst gar nichts aber die schlafzeit war auch nur vier stunden maximal vier also fünft und schlafen war der reinste luxus waren auch manchmal drei man auch manchmal drei tage ohne pen also ein extremist energielevel europas 24 möchte von ihm wissen hast du damals viel guckt wenn du deine füße vernachlässigt und dein hirn vernebelt wirst du sehr schnell krasse fehlentscheidung machen also in diesen themen in diesen phasen als hedge fonds manager no fucking way ab und zu mal vielleicht einen joint geraucht wird ich mir auch vor geworfen aber mehr war überhaupt nicht drin thessa möchte von mir wissen haben frauen mit ihr geschlafen nur wegen des geldes ich hatte lange zeiten also viele jahre meines lebens privatdetektive die gegen mich gearbeitet haben als bestens dokumentiert und dann wird man äußerst vorsichtig bei frauen die ein super gut finden ja wenn nämlich nicht der erste ich bin ich der beste ich mich der schönste und ich bin auch der längste und dass dieser mythos den kann man können die frauen so schön bespielen oder wenn ich sie allergisch und sehr vorsichtig kann man liebe kaufen nachher oft keinen fall man kann die illusion der liebe kaufen und die wahre liebe kannst du nicht kaufen einer seelenverwandtschaft das kannst du nicht kaufen und dafür braucht es eigentlich fast 40 um das zu verstehen sei jesus möchte von dir wissen hattest du ein bodyguard einen über eine zeit von 20 jahren circa hatte ich verschiedene teams von bodyguards in deutschland wie auch im kanzleramt ethik man in südafrika abgehärtete also mal frieden weiter entweder gegen die südafrikaner oder im bürgerkrieg in simbabwe teils mossad leute eher bei fünf und so weiter ja klar ich hatte echt viele nicht viele in eine ganze menge zwei hände voll wirkliche feinde ich hatte auch mein bodyguard dabei in caracas 2006 ende 2006 wurde opfer eines attentats die kugel steckt auf meinem zwölften rückenwirbel der dienstleister nämlich ein caracas beansprucht hatte der hatte halt nicht eine sauber gepanzerte limousine die konnte man mit einer schwer kaliber pistole wird man die durch sparen also pom pom poms fenster marsch und ich auch und ich hab mein google hier kassiert todes lockere möchte von ihr wissen wie fühlt es sich an angeschlossen zu werden also in meinem falls sich weh getan ich habe ja in meiner linke lunge größtenteils verloren meine mails komplett strömt es so viel blut raus dass meine hose und das obere also mein hemd war auch komplett rot es war sogar blut in meinen schuhen ich durfte das dann überleben weil das krankenhaus was mich behandelt hatte die hat so eine zentrifuge gerät also das gebot was wird das was bei mir ausfloss das wurde wieder verarbeitet und kam wieder mein kreislauf zurück aber das verblüffende an dem attentat war das mein bodyguard in schuss ins knie bekam der fahrer wurde gänzlich ignoriert der wurde später noch mal ein bisschen ernsthaft in einem klärenden gespräch von meiner truppe verhört was da los war und ich kriege es innig kriegs in die brust und ich krieg dich jetzt in die brust bekommen und in den kopf wenn ich den typen nicht einhalten arm abgebissen hätte ich bin dafür gott dankbar dass ich hier stehen darf niemals animations- möchte von dir wissen macht geld glücklich geld macht nicht glücklich aber gold schlösser und privat jets nein bullshit du musst höllisch aufpassen der liga nicht dann gespielt habe bist du eigentlich in einem goldbestickten hamsterrad eine zeitliche verfügbarkeit ist relativ gering du bist zwar meinst du bist selbst bestimmt aber dein vermögen fängt an dich zu bestimmen eine ganz andere dimension denkt mal drüber nach karl kemper möchte von ihr wissen was war dein größter die publizitäts trächtig war am allermeisten die sanierung von borussia dortmund 2004 2005 waren die so krass überschuldet und so defizitär dass die gesamte finanz- und sport presse sagte er hat einen gehörsturz dass er diesen maroden laden überhaupt noch angeben versucht zu retten der wert des unternehmens ist vom tiefpunkt von ungefähr 60 millionen auf knapp eine milliarde euro gang in den folgenden jahren das war ein riesenerfolg auch wenn man das mir nicht irgendwie einrechnet heute in dortmund ich muss darüber stehen lookout hill möchte von ihr wissen wie taucht man unter schloss ist schluss das kapitel finanz milliardär makeover meister des universums war für mich durch null bock mehr ich war unglücklich und bin dann in mein privatflieger gegangen handy wegschmeißen richtig viel geld dabei und dann ging's los ging die reise los ja und genau welchen weg und wohin usw hat keins interessieren olafur westmächte von mir wissen wo warst du auf deiner fluchten überall mindestens 50 länder sehr viel sightseeing wer viel sport sehr viel familie sehr viel kultur einfach ein innerster bedarf leben nachzuholen was in meinem ehrgeiz komplett untergegangen ist wohl kings möchte von dir wissen wie hast du es geschafft sich so lange zu verstecken es gab eine kopfgeldjagd weil das vermögen das familienvermögen was damals noch bestand also eine gesunde neunstellige zahl das weckt auch begehrlichkeiten da wurden 1,5 millionen auf meinen kopf ausgesetzt hatte eine sehr schöne yacht zu diesem zeitpunkt und die option war in die karibik zu fahren oder den pazifik richtungen chile oder in norden richtung mexiko und wenn das mein kapitän nicht weiß wo meine crew wie soll das denn dann bitten kopfgeldjäger wissen ich wusste ja selber nicht wo ich hinfahren will hattest du gefälschten papieren sollte man der presse nachlesen flames möchte von ihr wissen wie würdest du gefasst anfang märz 2013 gab es dann ein haftbefehl gegen mich und der wurde über interpol an die italiener transferiert ich war mit meiner ex frau zusammen meinem sohn konrad und seiner freundin wir waren in den uffizien das ist das schönste kunstmuseum italiens auferstanden sechs leute um mich und haben mich vor meine ex frau und meinem sohn und seiner freundin verhaftet und dann wie in einem james-bond-film geleiteten die mich wird gesagt mit verdeckten handschellen in den innenhof dieses wahnsinnigen museums und fuhren mich in eine villa bei der jugend woods erkennen war das ist eine polizeidienststelle war es war eine heißt zwar drei mobile das ist die absolute elite einheit der italienischen polizei dann begann ein echtes trauma regenbogen kotze interessiert was hast du bei deiner festnahme gedacht what the [\\xa0__\\xa0] erste gedanken zweiter gedanken war souverän bleiben eiskalt bleiben keine blöße geben richies world möchte von mir wissen was war das schlimmste im gefängnis die absolute hoffnungslosigkeit weil ich gefühlt hatte ich mit riesigen stahltoren organ wie amerika übermächtig und auch der schweiz zu tun hoffnungslosigkeit leben zu ende multiple sklerose 260 jahre knast ein beschissener ausblick keine möglichkeit sich zu bewegen das war das war das beschissenes erleben ist so wie du es kannst vorbei hast du an selbstmord gedacht ja ich hab s erwägt definitiv hat auch zwei pillen mehr organisiert dann kam diese überlegung hoch und dann hatte ich aber schon einen enormen glauben entwickelt habe gesagt es geht nicht ich das leben wurde mir gegeben es wird irgendwann mal zu ende sein ich werde es mir nicht nehmen und ich werde auch nicht diese schwere last auf zukünftige generationen übertragen meint er die mein großvater mein urgroßvater als verzweifelt um sich selber umgebracht dann war das ding in der die zwei pillen war in der toilette das war's schicken biest fragt sich wie viel von dem geld ist noch übrig ein recht hoher zweistelliger millionenbetrag ist in der schweiz arrestiert das ist öffentlich bekannt ob die zahl stimmt möchte ich nicht kommentieren der erzfeind fragt sich würdest du alles noch mal so machen ich glaube ich hätte einiges anders gemacht aber andererseits ganz klar bin ich dankbar dafür für dieses leben das ich überhaupt noch lebe und jetzt ein zweites leben führen kann was doch extrem unterschiedlich ist zum ersten würdest du nochmal hedgefonds-manager werden hahaha ich glaube das war schon ein affengeiles zeitweilig diese ressourcen diese fähigkeiten jetzt im gemeinnützigen kreativen bereich auch einsetzen werde und das für nicht so super spannend diese fähigkeit wenn einfach anders eingesetzt und die hätte ich nicht wenn ich nicht in diesem rat cor geschäft als der absoluten spitze der pyramide nicht nicht zwei jahrzehnte bewegt hätte [Musik] [Musik]\""
      ]
     },
     "execution_count": 10,
     "metadata": {},
     "output_type": "execute_result"
    }
   ],
   "source": [
    "texts"
   ]
  }
 ],
 "metadata": {
  "kernelspec": {
   "display_name": ".whisper",
   "language": "python",
   "name": "python3"
  },
  "language_info": {
   "codemirror_mode": {
    "name": "ipython",
    "version": 3
   },
   "file_extension": ".py",
   "mimetype": "text/x-python",
   "name": "python",
   "nbconvert_exporter": "python",
   "pygments_lexer": "ipython3",
   "version": "3.10.11"
  }
 },
 "nbformat": 4,
 "nbformat_minor": 2
}
